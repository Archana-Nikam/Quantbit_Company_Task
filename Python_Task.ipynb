{
  "nbformat": 4,
  "nbformat_minor": 0,
  "metadata": {
    "colab": {
      "provenance": [],
      "authorship_tag": "ABX9TyP8OL6pFcSdLcx6ov+lfrCH",
      "include_colab_link": true
    },
    "kernelspec": {
      "name": "python3",
      "display_name": "Python 3"
    },
    "language_info": {
      "name": "python"
    }
  },
  "cells": [
    {
      "cell_type": "markdown",
      "metadata": {
        "id": "view-in-github",
        "colab_type": "text"
      },
      "source": [
        "<a href=\"https://colab.research.google.com/github/Archana-Nikam/Quantbit_Company_Task/blob/main/Python_Task.ipynb\" target=\"_parent\"><img src=\"https://colab.research.google.com/assets/colab-badge.svg\" alt=\"Open In Colab\"/></a>"
      ]
    },
    {
      "cell_type": "code",
      "source": [
        "\n",
        "def binary_search(arr, goal):\n",
        "    start = 0\n",
        "    end = len(arr) - 1\n",
        "\n",
        "    while start <= end:\n",
        "        mid = start + (end - start) // 2  # it will Calculate the middle index\n",
        "        if arr[mid] == goal:\n",
        "            return f\"Found at index {mid}\"  # we will get the midpoint here\n",
        "        elif arr[mid] < goal:\n",
        "            start = mid + 1  # now Search in the right half\n",
        "        else:\n",
        "            end = mid - 1  # and then Search in the left half\n",
        "    return \"Not Found\"\n",
        "\n",
        "arr = [1, 3, 5, 7, 9]\n",
        "goal = 7\n",
        "answer = binary_search(arr, goal)\n",
        "print(answer)\n"
      ],
      "metadata": {
        "colab": {
          "base_uri": "https://localhost:8080/"
        },
        "id": "_K0_pqpT2qnu",
        "outputId": "1086c9f4-987d-4a0b-bff0-9e227e7b85a3"
      },
      "execution_count": null,
      "outputs": [
        {
          "output_type": "stream",
          "name": "stdout",
          "text": [
            "Found at index 3\n"
          ]
        }
      ]
    }
  ]
}